{
 "cells": [
  {
   "cell_type": "code",
   "execution_count": 1,
   "id": "92c45d47",
   "metadata": {},
   "outputs": [
    {
     "data": {
      "text/html": [
       "        <script type=\"text/javascript\">\n",
       "        window.PlotlyConfig = {MathJaxConfig: 'local'};\n",
       "        if (window.MathJax && window.MathJax.Hub && window.MathJax.Hub.Config) {window.MathJax.Hub.Config({SVG: {font: \"STIX-Web\"}});}\n",
       "        if (typeof require !== 'undefined') {\n",
       "        require.undef(\"plotly\");\n",
       "        requirejs.config({\n",
       "            paths: {\n",
       "                'plotly': ['https://cdn.plot.ly/plotly-2.12.1.min']\n",
       "            }\n",
       "        });\n",
       "        require(['plotly'], function(Plotly) {\n",
       "            window._Plotly = Plotly;\n",
       "        });\n",
       "        }\n",
       "        </script>\n",
       "        "
      ]
     },
     "metadata": {},
     "output_type": "display_data"
    }
   ],
   "source": [
    "import numpy as np # linear algebra\n",
    "import pandas as pd # data processing, CSV file I/O (e.g. pd.read_csv)\n",
    "\n",
    "# Input data files are available in the \"../input/\" directory.\n",
    "# For example, running this (by clicking run or pressing Shift+Enter) will list the files in the input directory\n",
    "\n",
    "import pandas as pd\n",
    "import numpy as np\n",
    "import re\n",
    "import string\n",
    "import nltk\n",
    "from nltk.corpus import stopwords\n",
    "stop = set(stopwords.words('english'))\n",
    "from wordcloud import WordCloud, STOPWORDS\n",
    "import matplotlib as plty\n",
    "import matplotlib.pyplot as plt\n",
    "import seaborn as sns\n",
    "%matplotlib inline\n",
    "import sklearn\n",
    "\n",
    "\n",
    "import numpy as np\n",
    "import pandas as pd\n",
    "import seaborn as sns\n",
    "import matplotlib.pyplot as plt\n",
    "from subprocess import check_output\n",
    "\n",
    "%matplotlib inline\n",
    "import plotly.offline as py\n",
    "py.init_notebook_mode(connected=True)\n",
    "import plotly.graph_objs as go\n",
    "import plotly.tools as tls\n",
    "\n",
    "import plotly.graph_objs as go\n",
    "from sklearn import preprocessing\n",
    "Encode = preprocessing.LabelEncoder()\n",
    "from sklearn.feature_extraction.text import CountVectorizer\n",
    "from sklearn.feature_extraction.text import TfidfVectorizer\n",
    "tfid = TfidfVectorizer()\n",
    "vect = CountVectorizer()\n",
    "from sklearn.model_selection import train_test_split\n",
    "from sklearn.naive_bayes import MultinomialNB\n",
    "from sklearn.manifold import TSNE\n",
    "NB = MultinomialNB()\n",
    "\n",
    "import nltk\n",
    "from nltk.corpus import stopwords\n",
    "stopwords = stopwords.words(\"english\")\n",
    "from sklearn import metrics\n",
    "from sklearn.svm import SVC\n",
    "from sklearn.ensemble import RandomForestClassifier\n",
    "\n"
   ]
  },
  {
   "cell_type": "code",
   "execution_count": 2,
   "id": "6a325e68",
   "metadata": {},
   "outputs": [],
   "source": [
    "chatbot = pd.read_csv(\"Sheet_1.csv\",usecols=['response_id','class','response_text'],encoding='latin-1')\n",
    "resume = pd.read_csv(\"Sheet_2.csv\",encoding='latin-1')"
   ]
  },
  {
   "cell_type": "code",
   "execution_count": 3,
   "id": "ebea0638",
   "metadata": {},
   "outputs": [
    {
     "data": {
      "text/html": [
       "<div>\n",
       "<style scoped>\n",
       "    .dataframe tbody tr th:only-of-type {\n",
       "        vertical-align: middle;\n",
       "    }\n",
       "\n",
       "    .dataframe tbody tr th {\n",
       "        vertical-align: top;\n",
       "    }\n",
       "\n",
       "    .dataframe thead th {\n",
       "        text-align: right;\n",
       "    }\n",
       "</style>\n",
       "<table border=\"1\" class=\"dataframe\">\n",
       "  <thead>\n",
       "    <tr style=\"text-align: right;\">\n",
       "      <th></th>\n",
       "      <th>response_id</th>\n",
       "      <th>class</th>\n",
       "      <th>response_text</th>\n",
       "    </tr>\n",
       "  </thead>\n",
       "  <tbody>\n",
       "    <tr>\n",
       "      <th>0</th>\n",
       "      <td>response_1</td>\n",
       "      <td>not_flagged</td>\n",
       "      <td>I try and avoid this sort of conflict</td>\n",
       "    </tr>\n",
       "    <tr>\n",
       "      <th>1</th>\n",
       "      <td>response_2</td>\n",
       "      <td>flagged</td>\n",
       "      <td>Had a friend open up to me about his mental ad...</td>\n",
       "    </tr>\n",
       "    <tr>\n",
       "      <th>2</th>\n",
       "      <td>response_3</td>\n",
       "      <td>flagged</td>\n",
       "      <td>I saved a girl from suicide once. She was goin...</td>\n",
       "    </tr>\n",
       "    <tr>\n",
       "      <th>3</th>\n",
       "      <td>response_4</td>\n",
       "      <td>not_flagged</td>\n",
       "      <td>i cant think of one really...i think i may hav...</td>\n",
       "    </tr>\n",
       "    <tr>\n",
       "      <th>4</th>\n",
       "      <td>response_5</td>\n",
       "      <td>not_flagged</td>\n",
       "      <td>Only really one friend who doesn't fit into th...</td>\n",
       "    </tr>\n",
       "    <tr>\n",
       "      <th>...</th>\n",
       "      <td>...</td>\n",
       "      <td>...</td>\n",
       "      <td>...</td>\n",
       "    </tr>\n",
       "    <tr>\n",
       "      <th>75</th>\n",
       "      <td>response_76</td>\n",
       "      <td>not_flagged</td>\n",
       "      <td>Now that I've been through it, although i'm no...</td>\n",
       "    </tr>\n",
       "    <tr>\n",
       "      <th>76</th>\n",
       "      <td>response_77</td>\n",
       "      <td>flagged</td>\n",
       "      <td>when my best friends mom past away from od'ing...</td>\n",
       "    </tr>\n",
       "    <tr>\n",
       "      <th>77</th>\n",
       "      <td>response_78</td>\n",
       "      <td>not_flagged</td>\n",
       "      <td>As a camp counselor I provide stability in kid...</td>\n",
       "    </tr>\n",
       "    <tr>\n",
       "      <th>78</th>\n",
       "      <td>response_79</td>\n",
       "      <td>flagged</td>\n",
       "      <td>My now girlfriend used to have serious addicti...</td>\n",
       "    </tr>\n",
       "    <tr>\n",
       "      <th>79</th>\n",
       "      <td>response_80</td>\n",
       "      <td>not_flagged</td>\n",
       "      <td>The one person I ever talked to it was because...</td>\n",
       "    </tr>\n",
       "  </tbody>\n",
       "</table>\n",
       "<p>80 rows × 3 columns</p>\n",
       "</div>"
      ],
      "text/plain": [
       "    response_id        class  \\\n",
       "0    response_1  not_flagged   \n",
       "1    response_2      flagged   \n",
       "2    response_3      flagged   \n",
       "3    response_4  not_flagged   \n",
       "4    response_5  not_flagged   \n",
       "..          ...          ...   \n",
       "75  response_76  not_flagged   \n",
       "76  response_77      flagged   \n",
       "77  response_78  not_flagged   \n",
       "78  response_79      flagged   \n",
       "79  response_80  not_flagged   \n",
       "\n",
       "                                        response_text  \n",
       "0               I try and avoid this sort of conflict  \n",
       "1   Had a friend open up to me about his mental ad...  \n",
       "2   I saved a girl from suicide once. She was goin...  \n",
       "3   i cant think of one really...i think i may hav...  \n",
       "4   Only really one friend who doesn't fit into th...  \n",
       "..                                                ...  \n",
       "75  Now that I've been through it, although i'm no...  \n",
       "76  when my best friends mom past away from od'ing...  \n",
       "77  As a camp counselor I provide stability in kid...  \n",
       "78  My now girlfriend used to have serious addicti...  \n",
       "79  The one person I ever talked to it was because...  \n",
       "\n",
       "[80 rows x 3 columns]"
      ]
     },
     "execution_count": 3,
     "metadata": {},
     "output_type": "execute_result"
    }
   ],
   "source": [
    "chatbot"
   ]
  },
  {
   "cell_type": "code",
   "execution_count": 4,
   "id": "084679ac",
   "metadata": {},
   "outputs": [
    {
     "data": {
      "text/plain": [
       "not_flagged    55\n",
       "flagged        25\n",
       "Name: class, dtype: int64"
      ]
     },
     "execution_count": 4,
     "metadata": {},
     "output_type": "execute_result"
    }
   ],
   "source": [
    "chatbot['class'].value_counts()\n"
   ]
  },
  {
   "cell_type": "code",
   "execution_count": 5,
   "id": "b4a7663e",
   "metadata": {},
   "outputs": [
    {
     "data": {
      "text/html": [
       "<div>\n",
       "<style scoped>\n",
       "    .dataframe tbody tr th:only-of-type {\n",
       "        vertical-align: middle;\n",
       "    }\n",
       "\n",
       "    .dataframe tbody tr th {\n",
       "        vertical-align: top;\n",
       "    }\n",
       "\n",
       "    .dataframe thead th {\n",
       "        text-align: right;\n",
       "    }\n",
       "</style>\n",
       "<table border=\"1\" class=\"dataframe\">\n",
       "  <thead>\n",
       "    <tr style=\"text-align: right;\">\n",
       "      <th></th>\n",
       "      <th>resume_id</th>\n",
       "      <th>class</th>\n",
       "      <th>resume_text</th>\n",
       "    </tr>\n",
       "  </thead>\n",
       "  <tbody>\n",
       "    <tr>\n",
       "      <th>0</th>\n",
       "      <td>resume_1</td>\n",
       "      <td>not_flagged</td>\n",
       "      <td>\\rCustomer Service Supervisor/Tier - Isabella ...</td>\n",
       "    </tr>\n",
       "    <tr>\n",
       "      <th>1</th>\n",
       "      <td>resume_2</td>\n",
       "      <td>not_flagged</td>\n",
       "      <td>\\rEngineer / Scientist - IBM Microelectronics ...</td>\n",
       "    </tr>\n",
       "    <tr>\n",
       "      <th>2</th>\n",
       "      <td>resume_3</td>\n",
       "      <td>not_flagged</td>\n",
       "      <td>\\rLTS Software Engineer Computational Lithogra...</td>\n",
       "    </tr>\n",
       "    <tr>\n",
       "      <th>3</th>\n",
       "      <td>resume_4</td>\n",
       "      <td>not_flagged</td>\n",
       "      <td>TUTOR\\rWilliston VT - Email me on Indeed: ind...</td>\n",
       "    </tr>\n",
       "    <tr>\n",
       "      <th>4</th>\n",
       "      <td>resume_5</td>\n",
       "      <td>flagged</td>\n",
       "      <td>\\rIndependent Consultant - Self-employed\\rBurl...</td>\n",
       "    </tr>\n",
       "    <tr>\n",
       "      <th>...</th>\n",
       "      <td>...</td>\n",
       "      <td>...</td>\n",
       "      <td>...</td>\n",
       "    </tr>\n",
       "    <tr>\n",
       "      <th>120</th>\n",
       "      <td>resume_121</td>\n",
       "      <td>not_flagged</td>\n",
       "      <td>\\rBrattleboro VT - Email me on Indeed: indeed....</td>\n",
       "    </tr>\n",
       "    <tr>\n",
       "      <th>121</th>\n",
       "      <td>resume_122</td>\n",
       "      <td>not_flagged</td>\n",
       "      <td>\\rResearch and Teaching Assistant - University...</td>\n",
       "    </tr>\n",
       "    <tr>\n",
       "      <th>122</th>\n",
       "      <td>resume_123</td>\n",
       "      <td>not_flagged</td>\n",
       "      <td>\\rMedical Coder - Highly Skilled - Entry Level...</td>\n",
       "    </tr>\n",
       "    <tr>\n",
       "      <th>123</th>\n",
       "      <td>resume_124</td>\n",
       "      <td>flagged</td>\n",
       "      <td>\\rWaterbury VT - Email me on Indeed: indeed.co...</td>\n",
       "    </tr>\n",
       "    <tr>\n",
       "      <th>124</th>\n",
       "      <td>resume_125</td>\n",
       "      <td>not_flagged</td>\n",
       "      <td>\\rResearch and Development Scientist - Burling...</td>\n",
       "    </tr>\n",
       "  </tbody>\n",
       "</table>\n",
       "<p>125 rows × 3 columns</p>\n",
       "</div>"
      ],
      "text/plain": [
       "      resume_id        class  \\\n",
       "0      resume_1  not_flagged   \n",
       "1      resume_2  not_flagged   \n",
       "2      resume_3  not_flagged   \n",
       "3      resume_4  not_flagged   \n",
       "4      resume_5      flagged   \n",
       "..          ...          ...   \n",
       "120  resume_121  not_flagged   \n",
       "121  resume_122  not_flagged   \n",
       "122  resume_123  not_flagged   \n",
       "123  resume_124      flagged   \n",
       "124  resume_125  not_flagged   \n",
       "\n",
       "                                           resume_text  \n",
       "0    \\rCustomer Service Supervisor/Tier - Isabella ...  \n",
       "1    \\rEngineer / Scientist - IBM Microelectronics ...  \n",
       "2    \\rLTS Software Engineer Computational Lithogra...  \n",
       "3     TUTOR\\rWilliston VT - Email me on Indeed: ind...  \n",
       "4    \\rIndependent Consultant - Self-employed\\rBurl...  \n",
       "..                                                 ...  \n",
       "120  \\rBrattleboro VT - Email me on Indeed: indeed....  \n",
       "121  \\rResearch and Teaching Assistant - University...  \n",
       "122  \\rMedical Coder - Highly Skilled - Entry Level...  \n",
       "123  \\rWaterbury VT - Email me on Indeed: indeed.co...  \n",
       "124  \\rResearch and Development Scientist - Burling...  \n",
       "\n",
       "[125 rows x 3 columns]"
      ]
     },
     "execution_count": 5,
     "metadata": {},
     "output_type": "execute_result"
    }
   ],
   "source": [
    "resume"
   ]
  },
  {
   "cell_type": "code",
   "execution_count": 6,
   "id": "5bc08bb2",
   "metadata": {},
   "outputs": [
    {
     "data": {
      "image/png": "[encoded data removed]",
      "text/plain": [
       "<Figure size 640x480 with 1 Axes>"
      ]
     },
     "metadata": {},
     "output_type": "display_data"
    }
   ],
   "source": [
    "def cloud(text):\n",
    "    wordcloud = WordCloud(background_color=\"blue\",stopwords=stop).generate(\" \".join([i for i in text.str.upper()]))\n",
    "    plt.imshow(wordcloud)\n",
    "    plt.axis(\"off\")\n",
    "    plt.title(\"Chat Bot Response\")\n",
    "cloud(chatbot['response_text'])"
   ]
  },
  {
   "cell_type": "code",
   "execution_count": 7,
   "id": "234dec22",
   "metadata": {},
   "outputs": [],
   "source": [
    "chatbot['Label'] = Encode.fit_transform(chatbot['class'])\n"
   ]
  },
  {
   "cell_type": "code",
   "execution_count": 8,
   "id": "a4d347c2",
   "metadata": {},
   "outputs": [
    {
     "data": {
      "text/html": [
       "<div>\n",
       "<style scoped>\n",
       "    .dataframe tbody tr th:only-of-type {\n",
       "        vertical-align: middle;\n",
       "    }\n",
       "\n",
       "    .dataframe tbody tr th {\n",
       "        vertical-align: top;\n",
       "    }\n",
       "\n",
       "    .dataframe thead th {\n",
       "        text-align: right;\n",
       "    }\n",
       "</style>\n",
       "<table border=\"1\" class=\"dataframe\">\n",
       "  <thead>\n",
       "    <tr style=\"text-align: right;\">\n",
       "      <th></th>\n",
       "      <th>response_id</th>\n",
       "      <th>class</th>\n",
       "      <th>response_text</th>\n",
       "      <th>Label</th>\n",
       "    </tr>\n",
       "  </thead>\n",
       "  <tbody>\n",
       "    <tr>\n",
       "      <th>0</th>\n",
       "      <td>response_1</td>\n",
       "      <td>not_flagged</td>\n",
       "      <td>I try and avoid this sort of conflict</td>\n",
       "      <td>1</td>\n",
       "    </tr>\n",
       "    <tr>\n",
       "      <th>1</th>\n",
       "      <td>response_2</td>\n",
       "      <td>flagged</td>\n",
       "      <td>Had a friend open up to me about his mental ad...</td>\n",
       "      <td>0</td>\n",
       "    </tr>\n",
       "    <tr>\n",
       "      <th>2</th>\n",
       "      <td>response_3</td>\n",
       "      <td>flagged</td>\n",
       "      <td>I saved a girl from suicide once. She was goin...</td>\n",
       "      <td>0</td>\n",
       "    </tr>\n",
       "    <tr>\n",
       "      <th>3</th>\n",
       "      <td>response_4</td>\n",
       "      <td>not_flagged</td>\n",
       "      <td>i cant think of one really...i think i may hav...</td>\n",
       "      <td>1</td>\n",
       "    </tr>\n",
       "    <tr>\n",
       "      <th>4</th>\n",
       "      <td>response_5</td>\n",
       "      <td>not_flagged</td>\n",
       "      <td>Only really one friend who doesn't fit into th...</td>\n",
       "      <td>1</td>\n",
       "    </tr>\n",
       "    <tr>\n",
       "      <th>...</th>\n",
       "      <td>...</td>\n",
       "      <td>...</td>\n",
       "      <td>...</td>\n",
       "      <td>...</td>\n",
       "    </tr>\n",
       "    <tr>\n",
       "      <th>75</th>\n",
       "      <td>response_76</td>\n",
       "      <td>not_flagged</td>\n",
       "      <td>Now that I've been through it, although i'm no...</td>\n",
       "      <td>1</td>\n",
       "    </tr>\n",
       "    <tr>\n",
       "      <th>76</th>\n",
       "      <td>response_77</td>\n",
       "      <td>flagged</td>\n",
       "      <td>when my best friends mom past away from od'ing...</td>\n",
       "      <td>0</td>\n",
       "    </tr>\n",
       "    <tr>\n",
       "      <th>77</th>\n",
       "      <td>response_78</td>\n",
       "      <td>not_flagged</td>\n",
       "      <td>As a camp counselor I provide stability in kid...</td>\n",
       "      <td>1</td>\n",
       "    </tr>\n",
       "    <tr>\n",
       "      <th>78</th>\n",
       "      <td>response_79</td>\n",
       "      <td>flagged</td>\n",
       "      <td>My now girlfriend used to have serious addicti...</td>\n",
       "      <td>0</td>\n",
       "    </tr>\n",
       "    <tr>\n",
       "      <th>79</th>\n",
       "      <td>response_80</td>\n",
       "      <td>not_flagged</td>\n",
       "      <td>The one person I ever talked to it was because...</td>\n",
       "      <td>1</td>\n",
       "    </tr>\n",
       "  </tbody>\n",
       "</table>\n",
       "<p>80 rows × 4 columns</p>\n",
       "</div>"
      ],
      "text/plain": [
       "    response_id        class  \\\n",
       "0    response_1  not_flagged   \n",
       "1    response_2      flagged   \n",
       "2    response_3      flagged   \n",
       "3    response_4  not_flagged   \n",
       "4    response_5  not_flagged   \n",
       "..          ...          ...   \n",
       "75  response_76  not_flagged   \n",
       "76  response_77      flagged   \n",
       "77  response_78  not_flagged   \n",
       "78  response_79      flagged   \n",
       "79  response_80  not_flagged   \n",
       "\n",
       "                                        response_text  Label  \n",
       "0               I try and avoid this sort of conflict      1  \n",
       "1   Had a friend open up to me about his mental ad...      0  \n",
       "2   I saved a girl from suicide once. She was goin...      0  \n",
       "3   i cant think of one really...i think i may hav...      1  \n",
       "4   Only really one friend who doesn't fit into th...      1  \n",
       "..                                                ...    ...  \n",
       "75  Now that I've been through it, although i'm no...      1  \n",
       "76  when my best friends mom past away from od'ing...      0  \n",
       "77  As a camp counselor I provide stability in kid...      1  \n",
       "78  My now girlfriend used to have serious addicti...      0  \n",
       "79  The one person I ever talked to it was because...      1  \n",
       "\n",
       "[80 rows x 4 columns]"
      ]
     },
     "execution_count": 8,
     "metadata": {},
     "output_type": "execute_result"
    }
   ],
   "source": [
    "chatbot"
   ]
  },
  {
   "cell_type": "code",
   "execution_count": 9,
   "id": "67f998a2",
   "metadata": {},
   "outputs": [
    {
     "data": {
      "text/plain": [
       "1    55\n",
       "0    25\n",
       "Name: Label, dtype: int64"
      ]
     },
     "execution_count": 9,
     "metadata": {},
     "output_type": "execute_result"
    }
   ],
   "source": [
    "chatbot['Label'].value_counts()\n"
   ]
  },
  {
   "cell_type": "code",
   "execution_count": 10,
   "id": "bc32d187",
   "metadata": {},
   "outputs": [
    {
     "data": {
      "text/plain": [
       "0.7"
      ]
     },
     "execution_count": 10,
     "metadata": {},
     "output_type": "execute_result"
    }
   ],
   "source": [
    "x = chatbot.response_text\n",
    "y = chatbot.Label\n",
    "x_train,x_test,y_train,y_test = train_test_split(x,y,random_state=1)\n",
    "x_train_dtm = vect.fit_transform(x_train)\n",
    "x_test_dtm = vect.transform(x_test)\n",
    "NB.fit(x_train_dtm,y_train)\n",
    "y_predict = NB.predict(x_test_dtm)\n",
    "metrics.accuracy_score(y_test,y_predict)"
   ]
  },
  {
   "cell_type": "code",
   "execution_count": 11,
   "id": "a0ab75a5",
   "metadata": {},
   "outputs": [
    {
     "data": {
      "text/plain": [
       "0.85"
      ]
     },
     "execution_count": 11,
     "metadata": {},
     "output_type": "execute_result"
    }
   ],
   "source": [
    "rf = RandomForestClassifier(max_depth=10,max_features=10)\n",
    "rf.fit(x_train_dtm,y_train)\n",
    "rf_predict = rf.predict(x_test_dtm)\n",
    "metrics.accuracy_score(y_test,rf_predict)"
   ]
  },
  {
   "cell_type": "code",
   "execution_count": 12,
   "id": "9dacd54c",
   "metadata": {},
   "outputs": [
    {
     "data": {
      "text/plain": [
       "80"
      ]
     },
     "execution_count": 12,
     "metadata": {},
     "output_type": "execute_result"
    }
   ],
   "source": [
    "Chatbot_Text = chatbot[\"response_text\"]\n",
    "len(Chatbot_Text)"
   ]
  },
  {
   "cell_type": "code",
   "execution_count": 13,
   "id": "b54fbb4d",
   "metadata": {},
   "outputs": [],
   "source": [
    "Tf_idf = CountVectorizer(max_features=256).fit_transform(Chatbot_Text.values)\n"
   ]
  },
  {
   "cell_type": "code",
   "execution_count": 14,
   "id": "0e3009a5",
   "metadata": {},
   "outputs": [
    {
     "name": "stderr",
     "output_type": "stream",
     "text": [
      "C:\\Users\\himan\\anaconda3\\Lib\\site-packages\\sklearn\\manifold\\_t_sne.py:810: FutureWarning:\n",
      "\n",
      "The default learning rate in TSNE will change from 200.0 to 'auto' in 1.2.\n",
      "\n"
     ]
    },
    {
     "name": "stdout",
     "output_type": "stream",
     "text": [
      "[t-SNE] Computing 79 nearest neighbors...\n",
      "[t-SNE] Indexed 80 samples in 0.001s...\n",
      "[t-SNE] Computed neighbors for 80 samples in 0.000s...\n",
      "[t-SNE] Computed conditional probabilities for sample 80 / 80\n",
      "[t-SNE] Mean sigma: 2.119036\n",
      "[t-SNE] Computed conditional probabilities in 0.000s\n",
      "[t-SNE] Iteration 50: error = 114.9579239, gradient norm = 0.1865210 (50 iterations in 0.050s)\n",
      "[t-SNE] Iteration 100: error = 128.8542786, gradient norm = 0.0996633 (50 iterations in 0.024s)\n",
      "[t-SNE] Iteration 150: error = 146.3176880, gradient norm = 0.1200780 (50 iterations in 0.055s)\n",
      "[t-SNE] Iteration 200: error = 145.0300446, gradient norm = 0.0888677 (50 iterations in 0.022s)\n",
      "[t-SNE] Iteration 250: error = 153.9753265, gradient norm = 0.0881155 (50 iterations in 0.029s)\n",
      "[t-SNE] KL divergence after 250 iterations with early exaggeration: 153.975327\n",
      "[t-SNE] Iteration 300: error = 3.2556207, gradient norm = 0.0002847 (50 iterations in 0.046s)\n",
      "[t-SNE] KL divergence after 300 iterations: 3.255621\n"
     ]
    }
   ],
   "source": [
    "tsne = TSNE(\n",
    "    n_components=3,\n",
    "    init='random', # pca\n",
    "    random_state=101,\n",
    "    method='barnes_hut',\n",
    "    n_iter=300,\n",
    "    verbose=2,\n",
    "    angle=0.5\n",
    ").fit_transform(Tf_idf.toarray())"
   ]
  },
  {
   "cell_type": "code",
   "execution_count": 15,
   "id": "383017f4",
   "metadata": {},
   "outputs": [
    {
     "data": {
      "text/plain": [
       "array([[ 1.12513504e+02,  3.37005280e+02,  3.44139648e+02],\n",
       "       [-3.02197151e+01, -1.00735197e+01,  3.80220909e+01],\n",
       "       [ 1.70502472e+01,  9.30993271e+00, -5.26670341e+01],\n",
       "       [ 8.39256859e+00, -2.93582401e+01,  2.42053185e+01],\n",
       "       [ 2.85783100e+00,  5.10224838e+01,  2.25457554e+01],\n",
       "       [-3.86681442e+01,  3.11275864e+01, -1.98099279e+00],\n",
       "       [ 4.24160919e+01,  2.66186028e+01, -1.81481152e+01],\n",
       "       [ 3.23421364e+01, -1.34789801e+00, -2.21656437e+01],\n",
       "       [ 1.85116920e+01, -3.62459755e+01, -5.80405712e+00],\n",
       "       [ 3.17350292e+01,  7.83353710e+00,  3.52318726e+01],\n",
       "       [ 4.24007034e+01,  7.04472363e-01,  1.69986172e+01],\n",
       "       [ 6.04091911e+01, -2.30395546e+01, -3.10139217e+01],\n",
       "       [-1.20480553e+02,  1.67356384e+02,  3.01921844e+01],\n",
       "       [-9.78524327e-01,  7.42785645e+01,  6.11911821e+00],\n",
       "       [ 5.95436325e+01, -4.69784737e+00,  2.71594639e+01],\n",
       "       [ 3.07203007e+01,  3.10343876e+01,  3.65915608e+00],\n",
       "       [ 2.43948097e+01,  3.58764343e+01,  7.83342438e+01],\n",
       "       [-1.81117661e+02, -2.08559933e+01, -3.98805008e+01],\n",
       "       [-1.72780777e+02, -3.70831680e+01,  8.95442200e+01],\n",
       "       [ 3.15557461e+01, -3.49924660e+01,  1.90979996e+01],\n",
       "       [ 1.23732986e+02, -2.06094025e+02, -6.72014847e+01],\n",
       "       [ 6.50081635e+01, -8.84076691e+00, -1.11696005e+01],\n",
       "       [ 1.58385773e+02,  1.55157077e+00, -8.68812714e+01],\n",
       "       [ 4.04899025e+01, -2.06718655e+01, -4.42307144e-01],\n",
       "       [-1.98343716e+01, -1.44656639e+01, -1.52418256e+00],\n",
       "       [ 5.75363159e+00,  2.95170803e+01,  1.06264324e+01],\n",
       "       [ 5.18820763e+01,  4.96067810e+00, -2.03663273e+01],\n",
       "       [ 6.28141632e+01, -3.37178917e+01,  3.19286156e+00],\n",
       "       [ 5.80435524e+01,  1.59319410e+01,  7.38720512e+00],\n",
       "       [ 7.85171449e-01, -5.01739807e+01,  7.39152765e+00],\n",
       "       [ 7.58462753e+01, -1.13230724e+01,  9.17754364e+00],\n",
       "       [ 1.12813774e+02,  5.90013838e+00, -5.59694824e+01],\n",
       "       [-5.74130058e+00,  2.33580366e-01, -2.60603466e+01],\n",
       "       [-1.55759983e+01,  4.78607521e+01,  4.65213537e+00],\n",
       "       [-2.10096245e+01, -3.77084579e+01, -1.60363712e+01],\n",
       "       [-3.33559723e+01, -3.85303574e+01,  5.86830568e+00],\n",
       "       [-1.58643503e+01,  8.13455772e+00, -9.00791092e+01],\n",
       "       [-1.73580456e+01, -2.69882927e+01,  2.37592010e+01],\n",
       "       [-1.03658485e+01,  2.64570885e+01, -5.76188755e+00],\n",
       "       [-1.95982254e+02,  2.43080658e+02,  3.42540979e+00],\n",
       "       [ 1.71445827e+01,  1.20685205e+01,  1.23678703e+01],\n",
       "       [-4.51696548e+01,  5.04780579e+00, -1.29673824e+01],\n",
       "       [ 2.60425210e+00, -7.18891220e+01,  4.91536570e+00],\n",
       "       [ 8.65499191e+01, -3.80092087e+01, -2.61794342e+02],\n",
       "       [ 3.55380511e+00, -1.61916167e-01,  2.70903912e+01],\n",
       "       [-8.03952038e-01,  3.06703491e+01, -3.32368851e+01],\n",
       "       [ 3.23066483e+01,  3.98011398e+00, -1.42920780e+00],\n",
       "       [ 2.38734894e+01,  2.16190243e+01, -3.30884514e+01],\n",
       "       [-4.12304192e+01,  1.05632181e+01,  1.36096363e+01],\n",
       "       [-2.06513195e+01,  6.94805861e+00, -9.53917885e+00],\n",
       "       [-2.55269432e+01,  3.31313348e+00, -4.33243942e+01],\n",
       "       [-2.21045322e+01,  4.24740715e+01, -1.91266823e+01],\n",
       "       [ 2.06964226e+01, -1.20774479e+01,  1.42529154e+01],\n",
       "       [ 1.05178967e+01, -2.30768204e+01, -4.85883827e+01],\n",
       "       [ 3.04888725e+01, -2.77677517e+01, -2.54408436e+01],\n",
       "       [-2.57323813e+00, -2.60180855e+01,  4.37244558e+00],\n",
       "       [-5.09869623e+00,  7.24208221e+01, -2.02540779e+01],\n",
       "       [-2.87509003e+01,  2.75297890e+01,  2.60435410e+01],\n",
       "       [ 5.04560204e+01,  2.02935410e+01,  8.10756836e+01],\n",
       "       [-9.29753017e+00,  1.04746437e+01,  4.63088379e+01],\n",
       "       [-6.26785088e+01,  8.30144272e+01,  1.40669266e+02],\n",
       "       [ 1.19603882e+01,  9.83033085e+00, -1.26628399e+01],\n",
       "       [ 1.17526871e+02, -2.84216290e+01, -7.93184128e+01],\n",
       "       [-2.36528301e+00, -1.32298410e+00, -4.91945114e+01],\n",
       "       [-5.92796803e+00,  2.90085011e+01,  3.01025925e+01],\n",
       "       [ 8.89619370e+01,  5.09780407e+00, -2.23652267e+01],\n",
       "       [-4.14852448e+01, -1.43579416e+01,  9.48198891e+00],\n",
       "       [ 5.76282549e+00, -1.57065239e+01, -1.39547234e+01],\n",
       "       [-1.15820086e+00, -3.55718422e+01, -3.01276340e+01],\n",
       "       [ 1.32728577e+01,  3.73263397e+01, -1.22534227e+01],\n",
       "       [-2.05125778e+02, -5.29035583e+02, -2.69380463e+02],\n",
       "       [ 1.79563675e+01, -7.90598488e+00, -3.48568153e+01],\n",
       "       [ 3.38266778e+00, -1.11831656e+01,  4.76548920e+01],\n",
       "       [-5.23769188e+00, -3.52533646e+01,  4.11911087e+01],\n",
       "       [ 1.51374912e+01,  2.37670383e+01,  3.75029221e+01],\n",
       "       [-2.04013519e+01,  5.82856774e-01,  2.21670990e+01],\n",
       "       [-2.75901203e+01,  2.16264133e+01, -2.92232494e+01],\n",
       "       [-3.02416348e+00,  2.49266839e+00,  4.47036409e+00],\n",
       "       [ 5.85325508e+01,  1.65369431e+02, -5.95343361e+01],\n",
       "       [-3.22064171e+01, -1.56494188e+01, -2.43857460e+01]], dtype=float32)"
      ]
     },
     "execution_count": 15,
     "metadata": {},
     "output_type": "execute_result"
    }
   ],
   "source": [
    "tsne"
   ]
  },
  {
   "cell_type": "code",
   "execution_count": 16,
   "id": "314f1daa",
   "metadata": {},
   "outputs": [],
   "source": [
    "default_color = 'rgb(115,110,150)'  # Replace with your desired default color\n"
   ]
  },
  {
   "cell_type": "code",
   "execution_count": 17,
   "id": "e3805f1c",
   "metadata": {
    "scrolled": false
   },
   "outputs": [
    {
     "data": {
      "application/vnd.plotly.v1+json": {
       "config": {
        "linkText": "Export to plot.ly",
        "plotlyServerURL": "https://plot.ly",
        "showLink": false
       },
       "data": [
        {
         "marker": {
          "color": "rgb(115,110,150)",
          "colorbar": {
           "title": {
            "text": "TExt"
           }
          },
          "colorscale": [
           [
            0,
            "rgb(12,51,131)"
           ],
           [
            0.25,
            "rgb(10,136,186)"
           ],
           [
            0.5,
            "rgb(242,211,56)"
           ],
           [
            0.75,
            "rgb(242,143,56)"
           ],
           [
            1,
            "rgb(217,30,30)"
           ]
          ],
          "line": {
           "color": "rgb(255, 255, 255)"
          },
          "opacity": 0.75,
          "sizemode": "diameter"
         },
         "mode": "markers",
         "type": "scatter3d",
         "x": [
          112.51350402832031,
          -30.219715118408203,
          17.050247192382812,
          8.392568588256836,
          2.8578310012817383,
          -38.66814422607422,
          42.41609191894531,
          32.34213638305664,
          18.51169204711914,
          31.735029220581055,
          42.40070343017578,
          60.4091911315918,
          -120.48055267333984,
          -0.9785243272781372,
          59.54363250732422,
          30.720300674438477,
          24.39480972290039,
          -181.11766052246094,
          -172.78077697753906,
          31.55574607849121,
          123.73298645019531,
          65.00816345214844,
          158.38577270507812,
          40.48990249633789,
          -19.83437156677246,
          5.753631591796875,
          51.882076263427734,
          62.81416320800781,
          58.04355239868164,
          0.7851714491844177,
          75.84627532958984,
          112.81377410888672,
          -5.741300582885742,
          -15.575998306274414,
          -21.009624481201172,
          -33.35597229003906,
          -15.864350318908691,
          -17.35804557800293,
          -10.365848541259766,
          -195.9822540283203,
          17.144582748413086,
          -45.169654846191406,
          2.6042520999908447,
          86.54991912841797,
          3.553805112838745,
          -0.8039520382881165,
          32.30664825439453,
          23.873489379882812,
          -41.23041915893555,
          -20.65131950378418,
          -25.52694320678711,
          -22.10453224182129,
          20.696422576904297,
          10.51789665222168,
          30.488872528076172,
          -2.5732381343841553,
          -5.098696231842041,
          -28.750900268554688,
          50.45602035522461,
          -9.297530174255371,
          -62.67850875854492,
          11.96038818359375,
          117.52687072753906,
          -2.3652830123901367,
          -5.9279680252075195,
          88.9619369506836,
          -41.48524475097656,
          5.7628254890441895,
          -1.1582008600234985,
          13.272857666015625,
          -205.1257781982422,
          17.95636749267578,
          3.3826677799224854,
          -5.237691879272461,
          15.137491226196289,
          -20.401351928710938,
          -27.590120315551758,
          -3.0241634845733643,
          58.53255081176758,
          -32.206417083740234
         ],
         "y": [
          337.0052795410156,
          -10.073519706726074,
          9.309932708740234,
          -29.358240127563477,
          51.022483825683594,
          31.127586364746094,
          26.618602752685547,
          -1.347898006439209,
          -36.245975494384766,
          7.8335371017456055,
          0.7044723629951477,
          -23.039554595947266,
          167.35638427734375,
          74.278564453125,
          -4.697847366333008,
          31.034387588500977,
          35.876434326171875,
          -20.855993270874023,
          -37.083168029785156,
          -34.99246597290039,
          -206.09402465820312,
          -8.840766906738281,
          1.5515707731246948,
          -20.671865463256836,
          -14.46566390991211,
          29.517080307006836,
          4.9606781005859375,
          -33.717891693115234,
          15.931941032409668,
          -50.173980712890625,
          -11.32307243347168,
          5.9001383781433105,
          0.23358036577701569,
          47.86075210571289,
          -37.708457946777344,
          -38.530357360839844,
          8.134557723999023,
          -26.988292694091797,
          26.457088470458984,
          243.08065795898438,
          12.068520545959473,
          5.0478057861328125,
          -71.88912200927734,
          -38.00920867919922,
          -0.16191616654396057,
          30.67034912109375,
          3.980113983154297,
          21.6190242767334,
          10.563218116760254,
          6.948058605194092,
          3.313133478164673,
          42.47407150268555,
          -12.077447891235352,
          -23.076820373535156,
          -27.767751693725586,
          -26.018085479736328,
          72.42082214355469,
          27.529788970947266,
          20.293540954589844,
          10.47464370727539,
          83.0144271850586,
          9.830330848693848,
          -28.421628952026367,
          -1.3229840993881226,
          29.008501052856445,
          5.097804069519043,
          -14.357941627502441,
          -15.706523895263672,
          -35.571842193603516,
          37.32633972167969,
          -529.0355834960938,
          -7.905984878540039,
          -11.183165550231934,
          -35.25336456298828,
          23.767038345336914,
          0.5828567743301392,
          21.626413345336914,
          2.492668390274048,
          165.3694305419922,
          -15.649418830871582
         ],
         "z": [
          344.1396484375,
          38.022090911865234,
          -52.66703414916992,
          24.205318450927734,
          22.54575538635254,
          -1.9809927940368652,
          -18.148115158081055,
          -22.1656436920166,
          -5.8040571212768555,
          35.23187255859375,
          16.99861717224121,
          -31.0139217376709,
          30.192184448242188,
          6.1191182136535645,
          27.15946388244629,
          3.659156084060669,
          78.33424377441406,
          -39.88050079345703,
          89.54421997070312,
          19.097999572753906,
          -67.20148468017578,
          -11.169600486755371,
          -86.88127136230469,
          -0.44230714440345764,
          -1.5241825580596924,
          10.626432418823242,
          -20.3663272857666,
          3.192861557006836,
          7.387205123901367,
          7.3915276527404785,
          9.177543640136719,
          -55.969482421875,
          -26.060346603393555,
          4.652135372161865,
          -16.0363712310791,
          5.868305683135986,
          -90.07910919189453,
          23.759201049804688,
          -5.761887550354004,
          3.4254097938537598,
          12.367870330810547,
          -12.967382431030273,
          4.915365695953369,
          -261.7943420410156,
          27.090391159057617,
          -33.23688507080078,
          -1.4292078018188477,
          -33.08845138549805,
          13.609636306762695,
          -9.539178848266602,
          -43.32439422607422,
          -19.12668228149414,
          14.252915382385254,
          -48.588382720947266,
          -25.44084358215332,
          4.372445583343506,
          -20.254077911376953,
          26.043540954589844,
          81.07568359375,
          46.308837890625,
          140.6692657470703,
          -12.662839889526367,
          -79.31841278076172,
          -49.19451141357422,
          30.10259246826172,
          -22.36522674560547,
          9.481988906860352,
          -13.954723358154297,
          -30.127634048461914,
          -12.253422737121582,
          -269.3804626464844,
          -34.856815338134766,
          47.65489196777344,
          41.19110870361328,
          37.50292205810547,
          22.167098999023438,
          -29.223249435424805,
          4.470364093780518,
          -59.53433609008789,
          -24.385746002197266
         ]
        }
       ],
       "layout": {
        "height": 800,
        "template": {
         "data": {
          "bar": [
           {
            "error_x": {
             "color": "#2a3f5f"
            },
            "error_y": {
             "color": "#2a3f5f"
            },
            "marker": {
             "line": {
              "color": "#E5ECF6",
              "width": 0.5
             },
             "pattern": {
              "fillmode": "overlay",
              "size": 10,
              "solidity": 0.2
             }
            },
            "type": "bar"
           }
          ],
          "barpolar": [
           {
            "marker": {
             "line": {
              "color": "#E5ECF6",
              "width": 0.5
             },
             "pattern": {
              "fillmode": "overlay",
              "size": 10,
              "solidity": 0.2
             }
            },
            "type": "barpolar"
           }
          ],
          "carpet": [
           {
            "aaxis": {
             "endlinecolor": "#2a3f5f",
             "gridcolor": "white",
             "linecolor": "white",
             "minorgridcolor": "white",
             "startlinecolor": "#2a3f5f"
            },
            "baxis": {
             "endlinecolor": "#2a3f5f",
             "gridcolor": "white",
             "linecolor": "white",
             "minorgridcolor": "white",
             "startlinecolor": "#2a3f5f"
            },
            "type": "carpet"
           }
          ],
          "choropleth": [
           {
            "colorbar": {
             "outlinewidth": 0,
             "ticks": ""
            },
            "type": "choropleth"
           }
          ],
          "contour": [
           {
            "colorbar": {
             "outlinewidth": 0,
             "ticks": ""
            },
            "colorscale": [
             [
              0,
              "#0d0887"
             ],
             [
              0.1111111111111111,
              "#46039f"
             ],
             [
              0.2222222222222222,
              "#7201a8"
             ],
             [
              0.3333333333333333,
              "#9c179e"
             ],
             [
              0.4444444444444444,
              "#bd3786"
             ],
             [
              0.5555555555555556,
              "#d8576b"
             ],
             [
              0.6666666666666666,
              "#ed7953"
             ],
             [
              0.7777777777777778,
              "#fb9f3a"
             ],
             [
              0.8888888888888888,
              "#fdca26"
             ],
             [
              1,
              "#f0f921"
             ]
            ],
            "type": "contour"
           }
          ],
          "contourcarpet": [
           {
            "colorbar": {
             "outlinewidth": 0,
             "ticks": ""
            },
            "type": "contourcarpet"
           }
          ],
          "heatmap": [
           {
            "colorbar": {
             "outlinewidth": 0,
             "ticks": ""
            },
            "colorscale": [
             [
              0,
              "#0d0887"
             ],
             [
              0.1111111111111111,
              "#46039f"
             ],
             [
              0.2222222222222222,
              "#7201a8"
             ],
             [
              0.3333333333333333,
              "#9c179e"
             ],
             [
              0.4444444444444444,
              "#bd3786"
             ],
             [
              0.5555555555555556,
              "#d8576b"
             ],
             [
              0.6666666666666666,
              "#ed7953"
             ],
             [
              0.7777777777777778,
              "#fb9f3a"
             ],
             [
              0.8888888888888888,
              "#fdca26"
             ],
             [
              1,
              "#f0f921"
             ]
            ],
            "type": "heatmap"
           }
          ],
          "heatmapgl": [
           {
            "colorbar": {
             "outlinewidth": 0,
             "ticks": ""
            },
            "colorscale": [
             [
              0,
              "#0d0887"
             ],
             [
              0.1111111111111111,
              "#46039f"
             ],
             [
              0.2222222222222222,
              "#7201a8"
             ],
             [
              0.3333333333333333,
              "#9c179e"
             ],
             [
              0.4444444444444444,
              "#bd3786"
             ],
             [
              0.5555555555555556,
              "#d8576b"
             ],
             [
              0.6666666666666666,
              "#ed7953"
             ],
             [
              0.7777777777777778,
              "#fb9f3a"
             ],
             [
              0.8888888888888888,
              "#fdca26"
             ],
             [
              1,
              "#f0f921"
             ]
            ],
            "type": "heatmapgl"
           }
          ],
          "histogram": [
           {
            "marker": {
             "pattern": {
              "fillmode": "overlay",
              "size": 10,
              "solidity": 0.2
             }
            },
            "type": "histogram"
           }
          ],
          "histogram2d": [
           {
            "colorbar": {
             "outlinewidth": 0,
             "ticks": ""
            },
            "colorscale": [
             [
              0,
              "#0d0887"
             ],
             [
              0.1111111111111111,
              "#46039f"
             ],
             [
              0.2222222222222222,
              "#7201a8"
             ],
             [
              0.3333333333333333,
              "#9c179e"
             ],
             [
              0.4444444444444444,
              "#bd3786"
             ],
             [
              0.5555555555555556,
              "#d8576b"
             ],
             [
              0.6666666666666666,
              "#ed7953"
             ],
             [
              0.7777777777777778,
              "#fb9f3a"
             ],
             [
              0.8888888888888888,
              "#fdca26"
             ],
             [
              1,
              "#f0f921"
             ]
            ],
            "type": "histogram2d"
           }
          ],
          "histogram2dcontour": [
           {
            "colorbar": {
             "outlinewidth": 0,
             "ticks": ""
            },
            "colorscale": [
             [
              0,
              "#0d0887"
             ],
             [
              0.1111111111111111,
              "#46039f"
             ],
             [
              0.2222222222222222,
              "#7201a8"
             ],
             [
              0.3333333333333333,
              "#9c179e"
             ],
             [
              0.4444444444444444,
              "#bd3786"
             ],
             [
              0.5555555555555556,
              "#d8576b"
             ],
             [
              0.6666666666666666,
              "#ed7953"
             ],
             [
              0.7777777777777778,
              "#fb9f3a"
             ],
             [
              0.8888888888888888,
              "#fdca26"
             ],
             [
              1,
              "#f0f921"
             ]
            ],
            "type": "histogram2dcontour"
           }
          ],
          "mesh3d": [
           {
            "colorbar": {
             "outlinewidth": 0,
             "ticks": ""
            },
            "type": "mesh3d"
           }
          ],
          "parcoords": [
           {
            "line": {
             "colorbar": {
              "outlinewidth": 0,
              "ticks": ""
             }
            },
            "type": "parcoords"
           }
          ],
          "pie": [
           {
            "automargin": true,
            "type": "pie"
           }
          ],
          "scatter": [
           {
            "fillpattern": {
             "fillmode": "overlay",
             "size": 10,
             "solidity": 0.2
            },
            "type": "scatter"
           }
          ],
          "scatter3d": [
           {
            "line": {
             "colorbar": {
              "outlinewidth": 0,
              "ticks": ""
             }
            },
            "marker": {
             "colorbar": {
              "outlinewidth": 0,
              "ticks": ""
             }
            },
            "type": "scatter3d"
           }
          ],
          "scattercarpet": [
           {
            "marker": {
             "colorbar": {
              "outlinewidth": 0,
              "ticks": ""
             }
            },
            "type": "scattercarpet"
           }
          ],
          "scattergeo": [
           {
            "marker": {
             "colorbar": {
              "outlinewidth": 0,
              "ticks": ""
             }
            },
            "type": "scattergeo"
           }
          ],
          "scattergl": [
           {
            "marker": {
             "colorbar": {
              "outlinewidth": 0,
              "ticks": ""
             }
            },
            "type": "scattergl"
           }
          ],
          "scattermapbox": [
           {
            "marker": {
             "colorbar": {
              "outlinewidth": 0,
              "ticks": ""
             }
            },
            "type": "scattermapbox"
           }
          ],
          "scatterpolar": [
           {
            "marker": {
             "colorbar": {
              "outlinewidth": 0,
              "ticks": ""
             }
            },
            "type": "scatterpolar"
           }
          ],
          "scatterpolargl": [
           {
            "marker": {
             "colorbar": {
              "outlinewidth": 0,
              "ticks": ""
             }
            },
            "type": "scatterpolargl"
           }
          ],
          "scatterternary": [
           {
            "marker": {
             "colorbar": {
              "outlinewidth": 0,
              "ticks": ""
             }
            },
            "type": "scatterternary"
           }
          ],
          "surface": [
           {
            "colorbar": {
             "outlinewidth": 0,
             "ticks": ""
            },
            "colorscale": [
             [
              0,
              "#0d0887"
             ],
             [
              0.1111111111111111,
              "#46039f"
             ],
             [
              0.2222222222222222,
              "#7201a8"
             ],
             [
              0.3333333333333333,
              "#9c179e"
             ],
             [
              0.4444444444444444,
              "#bd3786"
             ],
             [
              0.5555555555555556,
              "#d8576b"
             ],
             [
              0.6666666666666666,
              "#ed7953"
             ],
             [
              0.7777777777777778,
              "#fb9f3a"
             ],
             [
              0.8888888888888888,
              "#fdca26"
             ],
             [
              1,
              "#f0f921"
             ]
            ],
            "type": "surface"
           }
          ],
          "table": [
           {
            "cells": {
             "fill": {
              "color": "#EBF0F8"
             },
             "line": {
              "color": "white"
             }
            },
            "header": {
             "fill": {
              "color": "#C8D4E3"
             },
             "line": {
              "color": "white"
             }
            },
            "type": "table"
           }
          ]
         },
         "layout": {
          "annotationdefaults": {
           "arrowcolor": "#2a3f5f",
           "arrowhead": 0,
           "arrowwidth": 1
          },
          "autotypenumbers": "strict",
          "coloraxis": {
           "colorbar": {
            "outlinewidth": 0,
            "ticks": ""
           }
          },
          "colorscale": {
           "diverging": [
            [
             0,
             "#8e0152"
            ],
            [
             0.1,
             "#c51b7d"
            ],
            [
             0.2,
             "#de77ae"
            ],
            [
             0.3,
             "#f1b6da"
            ],
            [
             0.4,
             "#fde0ef"
            ],
            [
             0.5,
             "#f7f7f7"
            ],
            [
             0.6,
             "#e6f5d0"
            ],
            [
             0.7,
             "#b8e186"
            ],
            [
             0.8,
             "#7fbc41"
            ],
            [
             0.9,
             "#4d9221"
            ],
            [
             1,
             "#276419"
            ]
           ],
           "sequential": [
            [
             0,
             "#0d0887"
            ],
            [
             0.1111111111111111,
             "#46039f"
            ],
            [
             0.2222222222222222,
             "#7201a8"
            ],
            [
             0.3333333333333333,
             "#9c179e"
            ],
            [
             0.4444444444444444,
             "#bd3786"
            ],
            [
             0.5555555555555556,
             "#d8576b"
            ],
            [
             0.6666666666666666,
             "#ed7953"
            ],
            [
             0.7777777777777778,
             "#fb9f3a"
            ],
            [
             0.8888888888888888,
             "#fdca26"
            ],
            [
             1,
             "#f0f921"
            ]
           ],
           "sequentialminus": [
            [
             0,
             "#0d0887"
            ],
            [
             0.1111111111111111,
             "#46039f"
            ],
            [
             0.2222222222222222,
             "#7201a8"
            ],
            [
             0.3333333333333333,
             "#9c179e"
            ],
            [
             0.4444444444444444,
             "#bd3786"
            ],
            [
             0.5555555555555556,
             "#d8576b"
            ],
            [
             0.6666666666666666,
             "#ed7953"
            ],
            [
             0.7777777777777778,
             "#fb9f3a"
            ],
            [
             0.8888888888888888,
             "#fdca26"
            ],
            [
             1,
             "#f0f921"
            ]
           ]
          },
          "colorway": [
           "#636efa",
           "#EF553B",
           "#00cc96",
           "#ab63fa",
           "#FFA15A",
           "#19d3f3",
           "#FF6692",
           "#B6E880",
           "#FF97FF",
           "#FECB52"
          ],
          "font": {
           "color": "#2a3f5f"
          },
          "geo": {
           "bgcolor": "white",
           "lakecolor": "white",
           "landcolor": "#E5ECF6",
           "showlakes": true,
           "showland": true,
           "subunitcolor": "white"
          },
          "hoverlabel": {
           "align": "left"
          },
          "hovermode": "closest",
          "mapbox": {
           "style": "light"
          },
          "paper_bgcolor": "white",
          "plot_bgcolor": "#E5ECF6",
          "polar": {
           "angularaxis": {
            "gridcolor": "white",
            "linecolor": "white",
            "ticks": ""
           },
           "bgcolor": "#E5ECF6",
           "radialaxis": {
            "gridcolor": "white",
            "linecolor": "white",
            "ticks": ""
           }
          },
          "scene": {
           "xaxis": {
            "backgroundcolor": "#E5ECF6",
            "gridcolor": "white",
            "gridwidth": 2,
            "linecolor": "white",
            "showbackground": true,
            "ticks": "",
            "zerolinecolor": "white"
           },
           "yaxis": {
            "backgroundcolor": "#E5ECF6",
            "gridcolor": "white",
            "gridwidth": 2,
            "linecolor": "white",
            "showbackground": true,
            "ticks": "",
            "zerolinecolor": "white"
           },
           "zaxis": {
            "backgroundcolor": "#E5ECF6",
            "gridcolor": "white",
            "gridwidth": 2,
            "linecolor": "white",
            "showbackground": true,
            "ticks": "",
            "zerolinecolor": "white"
           }
          },
          "shapedefaults": {
           "line": {
            "color": "#2a3f5f"
           }
          },
          "ternary": {
           "aaxis": {
            "gridcolor": "white",
            "linecolor": "white",
            "ticks": ""
           },
           "baxis": {
            "gridcolor": "white",
            "linecolor": "white",
            "ticks": ""
           },
           "bgcolor": "#E5ECF6",
           "caxis": {
            "gridcolor": "white",
            "linecolor": "white",
            "ticks": ""
           }
          },
          "title": {
           "x": 0.05
          },
          "xaxis": {
           "automargin": true,
           "gridcolor": "white",
           "linecolor": "white",
           "ticks": "",
           "title": {
            "standoff": 15
           },
           "zerolinecolor": "white",
           "zerolinewidth": 2
          },
          "yaxis": {
           "automargin": true,
           "gridcolor": "white",
           "linecolor": "white",
           "ticks": "",
           "title": {
            "standoff": 15
           },
           "zerolinecolor": "white",
           "zerolinewidth": 2
          }
         }
        },
        "title": {
         "text": "test"
        },
        "width": 800
       }
      },
      "text/html": [
       "<div>                            <div id=\"97fc93ad-c982-4054-8950-b71f4579cbdb\" class=\"plotly-graph-div\" style=\"height:800px; width:800px;\"></div>            <script type=\"text/javascript\">                require([\"plotly\"], function(Plotly) {                    window.PLOTLYENV=window.PLOTLYENV || {};                                    if (document.getElementById(\"97fc93ad-c982-4054-8950-b71f4579cbdb\")) {                    Plotly.newPlot(                        \"97fc93ad-c982-4054-8950-b71f4579cbdb\",                        [{\"marker\":{\"color\":\"rgb(115,110,150)\",\"colorbar\":{\"title\":{\"text\":\"TExt\"}},\"colorscale\":[[0.0,\"rgb(12,51,131)\"],[0.25,\"rgb(10,136,186)\"],[0.5,\"rgb(242,211,56)\"],[0.75,\"rgb(242,143,56)\"],[1.0,\"rgb(217,30,30)\"]],\"line\":{\"color\":\"rgb(255, 255, 255)\"},\"opacity\":0.75,\"sizemode\":\"diameter\"},\"mode\":\"markers\",\"x\":[112.51350402832031,-30.219715118408203,17.050247192382812,8.392568588256836,2.8578310012817383,-38.66814422607422,42.41609191894531,32.34213638305664,18.51169204711914,31.735029220581055,42.40070343017578,60.4091911315918,-120.48055267333984,-0.9785243272781372,59.54363250732422,30.720300674438477,24.39480972290039,-181.11766052246094,-172.78077697753906,31.55574607849121,123.73298645019531,65.00816345214844,158.38577270507812,40.48990249633789,-19.83437156677246,5.753631591796875,51.882076263427734,62.81416320800781,58.04355239868164,0.7851714491844177,75.84627532958984,112.81377410888672,-5.741300582885742,-15.575998306274414,-21.009624481201172,-33.35597229003906,-15.864350318908691,-17.35804557800293,-10.365848541259766,-195.9822540283203,17.144582748413086,-45.169654846191406,2.6042520999908447,86.54991912841797,3.553805112838745,-0.8039520382881165,32.30664825439453,23.873489379882812,-41.23041915893555,-20.65131950378418,-25.52694320678711,-22.10453224182129,20.696422576904297,10.51789665222168,30.488872528076172,-2.5732381343841553,-5.098696231842041,-28.750900268554688,50.45602035522461,-9.297530174255371,-62.67850875854492,11.96038818359375,117.52687072753906,-2.3652830123901367,-5.9279680252075195,88.9619369506836,-41.48524475097656,5.7628254890441895,-1.1582008600234985,13.272857666015625,-205.1257781982422,17.95636749267578,3.3826677799224854,-5.237691879272461,15.137491226196289,-20.401351928710938,-27.590120315551758,-3.0241634845733643,58.53255081176758,-32.206417083740234],\"y\":[337.0052795410156,-10.073519706726074,9.309932708740234,-29.358240127563477,51.022483825683594,31.127586364746094,26.618602752685547,-1.347898006439209,-36.245975494384766,7.8335371017456055,0.7044723629951477,-23.039554595947266,167.35638427734375,74.278564453125,-4.697847366333008,31.034387588500977,35.876434326171875,-20.855993270874023,-37.083168029785156,-34.99246597290039,-206.09402465820312,-8.840766906738281,1.5515707731246948,-20.671865463256836,-14.46566390991211,29.517080307006836,4.9606781005859375,-33.717891693115234,15.931941032409668,-50.173980712890625,-11.32307243347168,5.9001383781433105,0.23358036577701569,47.86075210571289,-37.708457946777344,-38.530357360839844,8.134557723999023,-26.988292694091797,26.457088470458984,243.08065795898438,12.068520545959473,5.0478057861328125,-71.88912200927734,-38.00920867919922,-0.16191616654396057,30.67034912109375,3.980113983154297,21.6190242767334,10.563218116760254,6.948058605194092,3.313133478164673,42.47407150268555,-12.077447891235352,-23.076820373535156,-27.767751693725586,-26.018085479736328,72.42082214355469,27.529788970947266,20.293540954589844,10.47464370727539,83.0144271850586,9.830330848693848,-28.421628952026367,-1.3229840993881226,29.008501052856445,5.097804069519043,-14.357941627502441,-15.706523895263672,-35.571842193603516,37.32633972167969,-529.0355834960938,-7.905984878540039,-11.183165550231934,-35.25336456298828,23.767038345336914,0.5828567743301392,21.626413345336914,2.492668390274048,165.3694305419922,-15.649418830871582],\"z\":[344.1396484375,38.022090911865234,-52.66703414916992,24.205318450927734,22.54575538635254,-1.9809927940368652,-18.148115158081055,-22.1656436920166,-5.8040571212768555,35.23187255859375,16.99861717224121,-31.0139217376709,30.192184448242188,6.1191182136535645,27.15946388244629,3.659156084060669,78.33424377441406,-39.88050079345703,89.54421997070312,19.097999572753906,-67.20148468017578,-11.169600486755371,-86.88127136230469,-0.44230714440345764,-1.5241825580596924,10.626432418823242,-20.3663272857666,3.192861557006836,7.387205123901367,7.3915276527404785,9.177543640136719,-55.969482421875,-26.060346603393555,4.652135372161865,-16.0363712310791,5.868305683135986,-90.07910919189453,23.759201049804688,-5.761887550354004,3.4254097938537598,12.367870330810547,-12.967382431030273,4.915365695953369,-261.7943420410156,27.090391159057617,-33.23688507080078,-1.4292078018188477,-33.08845138549805,13.609636306762695,-9.539178848266602,-43.32439422607422,-19.12668228149414,14.252915382385254,-48.588382720947266,-25.44084358215332,4.372445583343506,-20.254077911376953,26.043540954589844,81.07568359375,46.308837890625,140.6692657470703,-12.662839889526367,-79.31841278076172,-49.19451141357422,30.10259246826172,-22.36522674560547,9.481988906860352,-13.954723358154297,-30.127634048461914,-12.253422737121582,-269.3804626464844,-34.856815338134766,47.65489196777344,41.19110870361328,37.50292205810547,22.167098999023438,-29.223249435424805,4.470364093780518,-59.53433609008789,-24.385746002197266],\"type\":\"scatter3d\"}],                        {\"height\":800,\"template\":{\"data\":{\"barpolar\":[{\"marker\":{\"line\":{\"color\":\"#E5ECF6\",\"width\":0.5},\"pattern\":{\"fillmode\":\"overlay\",\"size\":10,\"solidity\":0.2}},\"type\":\"barpolar\"}],\"bar\":[{\"error_x\":{\"color\":\"#2a3f5f\"},\"error_y\":{\"color\":\"#2a3f5f\"},\"marker\":{\"line\":{\"color\":\"#E5ECF6\",\"width\":0.5},\"pattern\":{\"fillmode\":\"overlay\",\"size\":10,\"solidity\":0.2}},\"type\":\"bar\"}],\"carpet\":[{\"aaxis\":{\"endlinecolor\":\"#2a3f5f\",\"gridcolor\":\"white\",\"linecolor\":\"white\",\"minorgridcolor\":\"white\",\"startlinecolor\":\"#2a3f5f\"},\"baxis\":{\"endlinecolor\":\"#2a3f5f\",\"gridcolor\":\"white\",\"linecolor\":\"white\",\"minorgridcolor\":\"white\",\"startlinecolor\":\"#2a3f5f\"},\"type\":\"carpet\"}],\"choropleth\":[{\"colorbar\":{\"outlinewidth\":0,\"ticks\":\"\"},\"type\":\"choropleth\"}],\"contourcarpet\":[{\"colorbar\":{\"outlinewidth\":0,\"ticks\":\"\"},\"type\":\"contourcarpet\"}],\"contour\":[{\"colorbar\":{\"outlinewidth\":0,\"ticks\":\"\"},\"colorscale\":[[0.0,\"#0d0887\"],[0.1111111111111111,\"#46039f\"],[0.2222222222222222,\"#7201a8\"],[0.3333333333333333,\"#9c179e\"],[0.4444444444444444,\"#bd3786\"],[0.5555555555555556,\"#d8576b\"],[0.6666666666666666,\"#ed7953\"],[0.7777777777777778,\"#fb9f3a\"],[0.8888888888888888,\"#fdca26\"],[1.0,\"#f0f921\"]],\"type\":\"contour\"}],\"heatmapgl\":[{\"colorbar\":{\"outlinewidth\":0,\"ticks\":\"\"},\"colorscale\":[[0.0,\"#0d0887\"],[0.1111111111111111,\"#46039f\"],[0.2222222222222222,\"#7201a8\"],[0.3333333333333333,\"#9c179e\"],[0.4444444444444444,\"#bd3786\"],[0.5555555555555556,\"#d8576b\"],[0.6666666666666666,\"#ed7953\"],[0.7777777777777778,\"#fb9f3a\"],[0.8888888888888888,\"#fdca26\"],[1.0,\"#f0f921\"]],\"type\":\"heatmapgl\"}],\"heatmap\":[{\"colorbar\":{\"outlinewidth\":0,\"ticks\":\"\"},\"colorscale\":[[0.0,\"#0d0887\"],[0.1111111111111111,\"#46039f\"],[0.2222222222222222,\"#7201a8\"],[0.3333333333333333,\"#9c179e\"],[0.4444444444444444,\"#bd3786\"],[0.5555555555555556,\"#d8576b\"],[0.6666666666666666,\"#ed7953\"],[0.7777777777777778,\"#fb9f3a\"],[0.8888888888888888,\"#fdca26\"],[1.0,\"#f0f921\"]],\"type\":\"heatmap\"}],\"histogram2dcontour\":[{\"colorbar\":{\"outlinewidth\":0,\"ticks\":\"\"},\"colorscale\":[[0.0,\"#0d0887\"],[0.1111111111111111,\"#46039f\"],[0.2222222222222222,\"#7201a8\"],[0.3333333333333333,\"#9c179e\"],[0.4444444444444444,\"#bd3786\"],[0.5555555555555556,\"#d8576b\"],[0.6666666666666666,\"#ed7953\"],[0.7777777777777778,\"#fb9f3a\"],[0.8888888888888888,\"#fdca26\"],[1.0,\"#f0f921\"]],\"type\":\"histogram2dcontour\"}],\"histogram2d\":[{\"colorbar\":{\"outlinewidth\":0,\"ticks\":\"\"},\"colorscale\":[[0.0,\"#0d0887\"],[0.1111111111111111,\"#46039f\"],[0.2222222222222222,\"#7201a8\"],[0.3333333333333333,\"#9c179e\"],[0.4444444444444444,\"#bd3786\"],[0.5555555555555556,\"#d8576b\"],[0.6666666666666666,\"#ed7953\"],[0.7777777777777778,\"#fb9f3a\"],[0.8888888888888888,\"#fdca26\"],[1.0,\"#f0f921\"]],\"type\":\"histogram2d\"}],\"histogram\":[{\"marker\":{\"pattern\":{\"fillmode\":\"overlay\",\"size\":10,\"solidity\":0.2}},\"type\":\"histogram\"}],\"mesh3d\":[{\"colorbar\":{\"outlinewidth\":0,\"ticks\":\"\"},\"type\":\"mesh3d\"}],\"parcoords\":[{\"line\":{\"colorbar\":{\"outlinewidth\":0,\"ticks\":\"\"}},\"type\":\"parcoords\"}],\"pie\":[{\"automargin\":true,\"type\":\"pie\"}],\"scatter3d\":[{\"line\":{\"colorbar\":{\"outlinewidth\":0,\"ticks\":\"\"}},\"marker\":{\"colorbar\":{\"outlinewidth\":0,\"ticks\":\"\"}},\"type\":\"scatter3d\"}],\"scattercarpet\":[{\"marker\":{\"colorbar\":{\"outlinewidth\":0,\"ticks\":\"\"}},\"type\":\"scattercarpet\"}],\"scattergeo\":[{\"marker\":{\"colorbar\":{\"outlinewidth\":0,\"ticks\":\"\"}},\"type\":\"scattergeo\"}],\"scattergl\":[{\"marker\":{\"colorbar\":{\"outlinewidth\":0,\"ticks\":\"\"}},\"type\":\"scattergl\"}],\"scattermapbox\":[{\"marker\":{\"colorbar\":{\"outlinewidth\":0,\"ticks\":\"\"}},\"type\":\"scattermapbox\"}],\"scatterpolargl\":[{\"marker\":{\"colorbar\":{\"outlinewidth\":0,\"ticks\":\"\"}},\"type\":\"scatterpolargl\"}],\"scatterpolar\":[{\"marker\":{\"colorbar\":{\"outlinewidth\":0,\"ticks\":\"\"}},\"type\":\"scatterpolar\"}],\"scatter\":[{\"fillpattern\":{\"fillmode\":\"overlay\",\"size\":10,\"solidity\":0.2},\"type\":\"scatter\"}],\"scatterternary\":[{\"marker\":{\"colorbar\":{\"outlinewidth\":0,\"ticks\":\"\"}},\"type\":\"scatterternary\"}],\"surface\":[{\"colorbar\":{\"outlinewidth\":0,\"ticks\":\"\"},\"colorscale\":[[0.0,\"#0d0887\"],[0.1111111111111111,\"#46039f\"],[0.2222222222222222,\"#7201a8\"],[0.3333333333333333,\"#9c179e\"],[0.4444444444444444,\"#bd3786\"],[0.5555555555555556,\"#d8576b\"],[0.6666666666666666,\"#ed7953\"],[0.7777777777777778,\"#fb9f3a\"],[0.8888888888888888,\"#fdca26\"],[1.0,\"#f0f921\"]],\"type\":\"surface\"}],\"table\":[{\"cells\":{\"fill\":{\"color\":\"#EBF0F8\"},\"line\":{\"color\":\"white\"}},\"header\":{\"fill\":{\"color\":\"#C8D4E3\"},\"line\":{\"color\":\"white\"}},\"type\":\"table\"}]},\"layout\":{\"annotationdefaults\":{\"arrowcolor\":\"#2a3f5f\",\"arrowhead\":0,\"arrowwidth\":1},\"autotypenumbers\":\"strict\",\"coloraxis\":{\"colorbar\":{\"outlinewidth\":0,\"ticks\":\"\"}},\"colorscale\":{\"diverging\":[[0,\"#8e0152\"],[0.1,\"#c51b7d\"],[0.2,\"#de77ae\"],[0.3,\"#f1b6da\"],[0.4,\"#fde0ef\"],[0.5,\"#f7f7f7\"],[0.6,\"#e6f5d0\"],[0.7,\"#b8e186\"],[0.8,\"#7fbc41\"],[0.9,\"#4d9221\"],[1,\"#276419\"]],\"sequential\":[[0.0,\"#0d0887\"],[0.1111111111111111,\"#46039f\"],[0.2222222222222222,\"#7201a8\"],[0.3333333333333333,\"#9c179e\"],[0.4444444444444444,\"#bd3786\"],[0.5555555555555556,\"#d8576b\"],[0.6666666666666666,\"#ed7953\"],[0.7777777777777778,\"#fb9f3a\"],[0.8888888888888888,\"#fdca26\"],[1.0,\"#f0f921\"]],\"sequentialminus\":[[0.0,\"#0d0887\"],[0.1111111111111111,\"#46039f\"],[0.2222222222222222,\"#7201a8\"],[0.3333333333333333,\"#9c179e\"],[0.4444444444444444,\"#bd3786\"],[0.5555555555555556,\"#d8576b\"],[0.6666666666666666,\"#ed7953\"],[0.7777777777777778,\"#fb9f3a\"],[0.8888888888888888,\"#fdca26\"],[1.0,\"#f0f921\"]]},\"colorway\":[\"#636efa\",\"#EF553B\",\"#00cc96\",\"#ab63fa\",\"#FFA15A\",\"#19d3f3\",\"#FF6692\",\"#B6E880\",\"#FF97FF\",\"#FECB52\"],\"font\":{\"color\":\"#2a3f5f\"},\"geo\":{\"bgcolor\":\"white\",\"lakecolor\":\"white\",\"landcolor\":\"#E5ECF6\",\"showlakes\":true,\"showland\":true,\"subunitcolor\":\"white\"},\"hoverlabel\":{\"align\":\"left\"},\"hovermode\":\"closest\",\"mapbox\":{\"style\":\"light\"},\"paper_bgcolor\":\"white\",\"plot_bgcolor\":\"#E5ECF6\",\"polar\":{\"angularaxis\":{\"gridcolor\":\"white\",\"linecolor\":\"white\",\"ticks\":\"\"},\"bgcolor\":\"#E5ECF6\",\"radialaxis\":{\"gridcolor\":\"white\",\"linecolor\":\"white\",\"ticks\":\"\"}},\"scene\":{\"xaxis\":{\"backgroundcolor\":\"#E5ECF6\",\"gridcolor\":\"white\",\"gridwidth\":2,\"linecolor\":\"white\",\"showbackground\":true,\"ticks\":\"\",\"zerolinecolor\":\"white\"},\"yaxis\":{\"backgroundcolor\":\"#E5ECF6\",\"gridcolor\":\"white\",\"gridwidth\":2,\"linecolor\":\"white\",\"showbackground\":true,\"ticks\":\"\",\"zerolinecolor\":\"white\"},\"zaxis\":{\"backgroundcolor\":\"#E5ECF6\",\"gridcolor\":\"white\",\"gridwidth\":2,\"linecolor\":\"white\",\"showbackground\":true,\"ticks\":\"\",\"zerolinecolor\":\"white\"}},\"shapedefaults\":{\"line\":{\"color\":\"#2a3f5f\"}},\"ternary\":{\"aaxis\":{\"gridcolor\":\"white\",\"linecolor\":\"white\",\"ticks\":\"\"},\"baxis\":{\"gridcolor\":\"white\",\"linecolor\":\"white\",\"ticks\":\"\"},\"bgcolor\":\"#E5ECF6\",\"caxis\":{\"gridcolor\":\"white\",\"linecolor\":\"white\",\"ticks\":\"\"}},\"title\":{\"x\":0.05},\"xaxis\":{\"automargin\":true,\"gridcolor\":\"white\",\"linecolor\":\"white\",\"ticks\":\"\",\"title\":{\"standoff\":15},\"zerolinecolor\":\"white\",\"zerolinewidth\":2},\"yaxis\":{\"automargin\":true,\"gridcolor\":\"white\",\"linecolor\":\"white\",\"ticks\":\"\",\"title\":{\"standoff\":15},\"zerolinecolor\":\"white\",\"zerolinewidth\":2}}},\"title\":{\"text\":\"test\"},\"width\":800},                        {\"responsive\": true}                    ).then(function(){\n",
       "                            \n",
       "var gd = document.getElementById('97fc93ad-c982-4054-8950-b71f4579cbdb');\n",
       "var x = new MutationObserver(function (mutations, observer) {{\n",
       "        var display = window.getComputedStyle(gd).display;\n",
       "        if (!display || display === 'none') {{\n",
       "            console.log([gd, 'removed!']);\n",
       "            Plotly.purge(gd);\n",
       "            observer.disconnect();\n",
       "        }}\n",
       "}});\n",
       "\n",
       "// Listen for the removal of the full notebook cells\n",
       "var notebookContainer = gd.closest('#notebook-container');\n",
       "if (notebookContainer) {{\n",
       "    x.observe(notebookContainer, {childList: true});\n",
       "}}\n",
       "\n",
       "// Listen for the clearing of the current output cell\n",
       "var outputEl = gd.closest('.output');\n",
       "if (outputEl) {{\n",
       "    x.observe(outputEl, {childList: true});\n",
       "}}\n",
       "\n",
       "                        })                };                });            </script>        </div>"
      ]
     },
     "metadata": {},
     "output_type": "display_data"
    }
   ],
   "source": [
    "trace1 = go.Scatter3d(\n",
    "    x=tsne[:,0],\n",
    "    y=tsne[:,1],\n",
    "    z=tsne[:,2],\n",
    "    mode='markers',\n",
    "    marker=dict(\n",
    "        sizemode='diameter',\n",
    "        color = default_color,\n",
    "        colorscale = 'Portland',\n",
    "        colorbar = dict(title = 'TExt'),\n",
    "        line=dict(color='rgb(255, 255, 255)'),\n",
    "        opacity=0.75\n",
    "    )\n",
    ")\n",
    "\n",
    "data=[trace1]\n",
    "layout=dict(height=800, width=800, title='test')\n",
    "fig=dict(data=data, layout=layout)\n",
    "py.iplot(fig, filename='3DBubble')"
   ]
  },
  {
   "cell_type": "code",
   "execution_count": null,
   "id": "bcdd1d6d",
   "metadata": {},
   "outputs": [],
   "source": []
  }
 ],
 "metadata": {
  "kernelspec": {
   "display_name": "Python 3 (ipykernel)",
   "language": "python",
   "name": "python3"
  },
  "language_info": {
   "codemirror_mode": {
    "name": "ipython",
    "version": 3
   },
   "file_extension": ".py",
   "mimetype": "text/x-python",
   "name": "python",
   "nbconvert_exporter": "python",
   "pygments_lexer": "ipython3",
   "version": "3.11.5"
  }
 },
 "nbformat": 4,
 "nbformat_minor": 5
}
